{
  "cells": [
    {
      "cell_type": "code",
      "execution_count": null,
      "metadata": {
        "id": "pNMdEOG_T4xe"
      },
      "outputs": [],
      "source": [
        "import numpy as np\n",
        "import matplotlib.pyplot as plt\n",
        "import tensorflow as tf\n",
        "from tensorflow.keras.layers import Dense , Flatten , Conv2D , MaxPooling2D\n",
        "from tensorflow.keras.utils import to_categorical\n",
        "from tensorflow.keras.preprocessing.image import ImageDataGenerator"
      ]
    },
    {
      "cell_type": "code",
      "execution_count": null,
      "metadata": {
        "id": "A-xkFiySUAHr",
        "colab": {
          "base_uri": "https://localhost:8080/"
        },
        "outputId": "1dd3fcf7-2865-45fd-c22c-b5f71cf026eb"
      },
      "outputs": [
        {
          "output_type": "stream",
          "name": "stdout",
          "text": [
            "Downloading data from https://storage.googleapis.com/tensorflow/tf-keras-datasets/mnist.npz\n",
            "11490434/11490434 [==============================] - 0s 0us/step\n"
          ]
        }
      ],
      "source": [
        "(x_train , y_train) , (x_test , y_test) = tf.keras.datasets.mnist.load_data() # load mnist dataset"
      ]
    },
    {
      "cell_type": "code",
      "execution_count": null,
      "metadata": {
        "colab": {
          "base_uri": "https://localhost:8080/"
        },
        "id": "sx2R6OBxaTsE",
        "outputId": "3728d105-e160-47a3-d6f9-5ec79c3ddd34"
      },
      "outputs": [
        {
          "output_type": "stream",
          "name": "stdout",
          "text": [
            "x_train Shape: (60000, 28, 28), y_train Shape: (60000,)\n",
            "\n",
            "x_test Shape: (10000, 28, 28), y_test Shape: (10000,)\n",
            "\n"
          ]
        }
      ],
      "source": [
        "print(\"x_train Shape: {}, y_train Shape: {}\\n\".format(x_train.shape , y_train.shape))\n",
        "print(\"x_test Shape: {}, y_test Shape: {}\\n\".format(x_test.shape , y_test.shape))"
      ]
    },
    {
      "cell_type": "code",
      "execution_count": null,
      "metadata": {
        "id": "UkbEqPakUCGr"
      },
      "outputs": [],
      "source": [
        "#plotting first 9 images and label\n",
        "print(\"First 9 Samples:\")\n",
        "plt.figure(figsize = (7,7))\n",
        "for i in range(9):\n",
        "  plt.subplot(3,3,i+1)\n",
        "  plt.imshow(x_train[i] , cmap = 'gray') # show the image\n",
        "  label = y_train[i]\n",
        "  plt.title(str(label)) # label of the image as image title\n",
        "  plt.axis('off')\n",
        "\n",
        "plt.show()"
      ]
    },
    {
      "cell_type": "code",
      "execution_count": null,
      "metadata": {
        "colab": {
          "base_uri": "https://localhost:8080/"
        },
        "id": "UlvULVaiUKx9",
        "outputId": "56e7f7db-53b5-4f28-d416-d711bb1f153f"
      },
      "outputs": [
        {
          "output_type": "stream",
          "name": "stdout",
          "text": [
            "Train data shape:  (60000, 48, 48, 3) \n",
            "Test data shape: (10000, 48, 48, 3)\n"
          ]
        }
      ],
      "source": [
        "# Pad dataset to make 48 x 48\n",
        "x_train = np.pad(x_train, ((0,0),(10,10),(10,10)))\n",
        "x_test = np.pad(x_test, ((0,0),(10,10),(10,10)))\n",
        "\n",
        "# Convert image into 3 channels\n",
        "x_train = np.stack((x_train,)*3, axis=-1)\n",
        "x_test = np.stack((x_test,)*3, axis=-1)\n",
        "\n",
        "x_train = x_train.astype('float32') / 255 # normalizing in range 0 to 1\n",
        "x_test = x_test.astype('float32') / 255 # normalizing in range 0 to 1\n",
        "\n",
        "y_train = to_categorical(y_train , 10) # one hot encoding of y_train\n",
        "y_test = to_categorical(y_test , 10) # one hot encoding of y_test\n",
        "\n",
        "print(\"Train data shape: \",x_train.shape ,\"\\nTest data shape:\", x_test.shape)"
      ]
    },
    {
      "cell_type": "code",
      "source": [
        "datagen = ImageDataGenerator(\n",
        "    rotation_range=10,  # rotate the image up to 10 degrees\n",
        "    width_shift_range=0.1,  # shift the image horizontally up to 10% of the width\n",
        "    height_shift_range=0.1,  # shift the image vertically up to 10% of the height\n",
        "    shear_range=0.2,  # shear the image up to 20%\n",
        "    zoom_range=0.2,  # zoom the image up to 20%\n",
        "    fill_mode='nearest'  # fill any empty pixels with the nearest pixel value\n",
        ")"
      ],
      "metadata": {
        "id": "tKLdXl0iRvY5"
      },
      "execution_count": null,
      "outputs": []
    },
    {
      "cell_type": "code",
      "source": [
        "# Generate augmented images on the fly during training\n",
        "datagen.fit(x_train)\n",
        "train_generator = datagen.flow(x_train, y_train, batch_size=32)"
      ],
      "metadata": {
        "id": "7DDDXC3wRzkh"
      },
      "execution_count": null,
      "outputs": []
    },
    {
      "cell_type": "code",
      "execution_count": null,
      "metadata": {
        "id": "YvxnYyaBUObc"
      },
      "outputs": [],
      "source": [
        "#import VGG16 model from keras\n",
        "from tensorflow.keras.applications.vgg16 import VGG16"
      ]
    },
    {
      "cell_type": "code",
      "execution_count": null,
      "metadata": {
        "colab": {
          "base_uri": "https://localhost:8080/"
        },
        "id": "B38bWJceUgR4",
        "outputId": "b6692913-3511-4864-aabc-82589327181a"
      },
      "outputs": [
        {
          "output_type": "stream",
          "name": "stdout",
          "text": [
            "Downloading data from https://storage.googleapis.com/tensorflow/keras-applications/vgg16/vgg16_weights_tf_dim_ordering_tf_kernels_notop.h5\n",
            "58889256/58889256 [==============================] - 0s 0us/step\n",
            "Model: \"sequential\"\n",
            "_________________________________________________________________\n",
            " Layer (type)                Output Shape              Param #   \n",
            "=================================================================\n",
            " vgg16 (Functional)          (None, 512)               14714688  \n",
            "                                                                 \n",
            " dense (Dense)               (None, 512)               262656    \n",
            "                                                                 \n",
            " dense_1 (Dense)             (None, 10)                5130      \n",
            "                                                                 \n",
            "=================================================================\n",
            "Total params: 14,982,474\n",
            "Trainable params: 267,786\n",
            "Non-trainable params: 14,714,688\n",
            "_________________________________________________________________\n"
          ]
        }
      ],
      "source": [
        "model = tf.keras.Sequential() # define sequential model\n",
        "\n",
        "model.add(VGG16(include_top=False,pooling='avg',weights='imagenet',input_shape = (48,48,3))) # adding vgg16 model\n",
        "model.add(Dense(units = 512 , activation = \"relu\")) # Fully connected layer of 512 units\n",
        "model.add(Dense(units = 10 , activation = \"softmax\")) # output layer with 10 units as number of class = 10\n",
        "\n",
        "model.layers[0].trainable = False\n",
        "\n",
        "model.summary()"
      ]
    },
    {
      "cell_type": "code",
      "execution_count": null,
      "metadata": {
        "id": "cJhsYeV5UnZd"
      },
      "outputs": [],
      "source": [
        "model.compile(optimizer='adam' , loss = 'categorical_crossentropy' , metrics = ['acc'])"
      ]
    },
    {
      "cell_type": "code",
      "execution_count": null,
      "metadata": {
        "colab": {
          "base_uri": "https://localhost:8080/"
        },
        "id": "Mrzqnlv7UqUm",
        "outputId": "8de46b6e-c56d-46b7-acf2-b7bf9ee4a07b"
      },
      "outputs": [
        {
          "output_type": "stream",
          "name": "stdout",
          "text": [
            "Epoch 1/10\n",
            "1875/1875 [==============================] - 76s 35ms/step - loss: 0.4837 - acc: 0.8480\n",
            "Epoch 2/10\n",
            "1875/1875 [==============================] - 66s 35ms/step - loss: 0.2673 - acc: 0.9138\n",
            "Epoch 3/10\n",
            "1875/1875 [==============================] - 65s 34ms/step - loss: 0.2304 - acc: 0.9248\n",
            "Epoch 4/10\n",
            "1875/1875 [==============================] - 65s 35ms/step - loss: 0.2124 - acc: 0.9302\n",
            "Epoch 5/10\n",
            "1875/1875 [==============================] - 65s 35ms/step - loss: 0.1972 - acc: 0.9358\n",
            "Epoch 6/10\n",
            "1875/1875 [==============================] - 65s 35ms/step - loss: 0.1877 - acc: 0.9382\n",
            "Epoch 7/10\n",
            "1875/1875 [==============================] - 64s 34ms/step - loss: 0.1758 - acc: 0.9431\n",
            "Epoch 8/10\n",
            "1875/1875 [==============================] - 62s 33ms/step - loss: 0.1714 - acc: 0.9430\n",
            "Epoch 9/10\n",
            "1875/1875 [==============================] - 62s 33ms/step - loss: 0.1661 - acc: 0.9459\n",
            "Epoch 10/10\n",
            "1875/1875 [==============================] - 62s 33ms/step - loss: 0.1596 - acc: 0.9477\n"
          ]
        },
        {
          "output_type": "execute_result",
          "data": {
            "text/plain": [
              "<keras.callbacks.History at 0x7fbaa844ae30>"
            ]
          },
          "metadata": {},
          "execution_count": 13
        }
      ],
      "source": [
        "# Train the model using the augmented images\n",
        "model.fit(train_generator,\n",
        "          steps_per_epoch=len(x_train) // 32,\n",
        "          epochs=10)"
      ]
    },
    {
      "cell_type": "code",
      "execution_count": null,
      "metadata": {
        "colab": {
          "base_uri": "https://localhost:8080/"
        },
        "id": "bIlA6t8gUtyP",
        "outputId": "8a11a1dd-c839-4dd4-a53b-ad972e0ae813"
      },
      "outputs": [
        {
          "output_type": "stream",
          "name": "stdout",
          "text": [
            "Accuracy: 94.88 %\n"
          ]
        }
      ],
      "source": [
        "history = model.evaluate(x_test , y_test , verbose = 0)\n",
        "acc = history[1] * 100\n",
        "\n",
        "print(\"Accuracy: %.2f\" % acc,\"%\")"
      ]
    }
  ],
  "metadata": {
    "accelerator": "GPU",
    "colab": {
      "provenance": []
    },
    "gpuClass": "standard",
    "kernelspec": {
      "display_name": "Python 3",
      "name": "python3"
    },
    "language_info": {
      "name": "python"
    }
  },
  "nbformat": 4,
  "nbformat_minor": 0
}