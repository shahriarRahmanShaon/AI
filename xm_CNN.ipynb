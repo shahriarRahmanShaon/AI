{
  "nbformat": 4,
  "nbformat_minor": 0,
  "metadata": {
    "colab": {
      "provenance": []
    },
    "kernelspec": {
      "name": "python3",
      "display_name": "Python 3"
    },
    "language_info": {
      "name": "python"
    },
    "accelerator": "GPU",
    "gpuClass": "standard"
  },
  "cells": [
    {
      "cell_type": "markdown",
      "source": [
        "**Import libraries for the project**\n",
        "\n",
        "\n"
      ],
      "metadata": {
        "id": "bkDepocuKHL7"
      }
    },
    {
      "cell_type": "code",
      "execution_count": null,
      "metadata": {
        "id": "KAjUZFFi158g"
      },
      "outputs": [],
      "source": [
        "from tensorflow.keras.datasets import mnist\n",
        "from tensorflow.keras.utils import to_categorical\n",
        "from tensorflow.keras.models import Sequential\n",
        "from tensorflow.keras.layers import Conv2D, MaxPooling2D, Flatten, Dense\n",
        "import matplotlib.pyplot as plt\n",
        "import numpy as np"
      ]
    },
    {
      "cell_type": "markdown",
      "source": [
        "**Load mnist dataset and process, reshape the dataset**"
      ],
      "metadata": {
        "id": "5cDNwtBZKpfR"
      }
    },
    {
      "cell_type": "code",
      "source": [
        "# Load the MNIST dataset\n",
        "(x_train, y_train), (x_test, y_test) = mnist.load_data()\n",
        "\n",
        "\n",
        "x_train = x_train.reshape((x_train.shape[0], x_train.shape[1], x_train.shape[2], 1)) / 255.0\n",
        "x_test = x_test.reshape((x_test.shape[0], x_test.shape[1], x_test.shape[2], 1)) / 255.0\n",
        "\n",
        "fig, axes = plt.subplots(nrows=1, ncols=5, figsize=(5, 5))\n",
        "for i, ax in enumerate(axes.flat):\n",
        "    ax.imshow(x_train[i], cmap='binary')\n",
        "    ax.set_title('Label: {}'.format(y_train[i]))\n",
        "    ax.axis('off')\n",
        "plt.show()\n",
        "\n",
        "y_train = to_categorical(y_train, 10)\n",
        "y_test = to_categorical(y_test, 10)\n",
        "\n",
        "print(x_train.shape)\n",
        "print(x_test.shape)\n",
        "\n"
      ],
      "metadata": {
        "id": "aw0QEzq3TSP-",
        "colab": {
          "base_uri": "https://localhost:8080/",
          "height": 163
        },
        "outputId": "70e4887b-be01-4a8a-8a35-185ed85a8472"
      },
      "execution_count": null,
      "outputs": [
        {
          "output_type": "display_data",
          "data": {
            "text/plain": [
              "<Figure size 500x500 with 5 Axes>"
            ],
            "image/png": "[encoded data removed]"
          },
          "metadata": {}
        },
        {
          "output_type": "stream",
          "name": "stdout",
          "text": [
            "(60000, 28, 28, 1)\n",
            "(10000, 28, 28, 1)\n"
          ]
        }
      ]
    },
    {
      "cell_type": "code",
      "source": [
        "print(y_test[0])"
      ],
      "metadata": {
        "colab": {
          "base_uri": "https://localhost:8080/"
        },
        "id": "BmAJXTK5szLh",
        "outputId": "dfaa420d-28e3-4bba-8f00-4d5a24ddc108"
      },
      "execution_count": null,
      "outputs": [
        {
          "output_type": "stream",
          "name": "stdout",
          "text": [
            "[0. 0. 0. 0. 0. 0. 0. 1. 0. 0.]\n"
          ]
        }
      ]
    },
    {
      "cell_type": "markdown",
      "source": [
        "**Print some part of the dataset**"
      ],
      "metadata": {
        "id": "XafWM7SiK3rn"
      }
    },
    {
      "cell_type": "markdown",
      "source": [
        "**CNN model structure build**"
      ],
      "metadata": {
        "id": "DViIuZ7iLGwY"
      }
    },
    {
      "cell_type": "code",
      "source": [
        "# Define the model\n",
        "model = Sequential([\n",
        "    Conv2D(32, (3, 3), strides=(1, 1), padding='same', activation='relu', input_shape=(28, 28, 1)),\n",
        "    MaxPooling2D(pool_size=(3, 3)),\n",
        "    Conv2D(64, (3, 3), strides=(1, 1), padding='same', activation='relu'),\n",
        "    MaxPooling2D(pool_size=(3, 3)),\n",
        "    Flatten(),\n",
        "    Dense(64, activation='relu'),\n",
        "    Dense(10, activation='softmax')\n",
        "])\n",
        "model.compile(loss='categorical_crossentropy', optimizer='adam', metrics=['accuracy'])\n"
      ],
      "metadata": {
        "id": "f5BolSlFUDaY"
      },
      "execution_count": null,
      "outputs": []
    },
    {
      "cell_type": "markdown",
      "source": [
        "**Print the model summary**"
      ],
      "metadata": {
        "id": "U0kN0bruLYUK"
      }
    },
    {
      "cell_type": "code",
      "source": [
        "#print the model\n",
        "model.summary()"
      ],
      "metadata": {
        "id": "LwkDUnBqWKjr",
        "colab": {
          "base_uri": "https://localhost:8080/"
        },
        "outputId": "c1aa298e-4544-4acc-f6bf-928a54523999"
      },
      "execution_count": null,
      "outputs": [
        {
          "output_type": "stream",
          "name": "stdout",
          "text": [
            "Model: \"sequential_1\"\n",
            "_________________________________________________________________\n",
            " Layer (type)                Output Shape              Param #   \n",
            "=================================================================\n",
            " conv2d_2 (Conv2D)           (None, 28, 28, 32)        320       \n",
            "                                                                 \n",
            " max_pooling2d_2 (MaxPooling  (None, 9, 9, 32)         0         \n",
            " 2D)                                                             \n",
            "                                                                 \n",
            " conv2d_3 (Conv2D)           (None, 9, 9, 64)          18496     \n",
            "                                                                 \n",
            " max_pooling2d_3 (MaxPooling  (None, 3, 3, 64)         0         \n",
            " 2D)                                                             \n",
            "                                                                 \n",
            " flatten_1 (Flatten)         (None, 576)               0         \n",
            "                                                                 \n",
            " dense_2 (Dense)             (None, 64)                36928     \n",
            "                                                                 \n",
            " dense_3 (Dense)             (None, 10)                650       \n",
            "                                                                 \n",
            "=================================================================\n",
            "Total params: 56,394\n",
            "Trainable params: 56,394\n",
            "Non-trainable params: 0\n",
            "_________________________________________________________________\n"
          ]
        }
      ]
    },
    {
      "cell_type": "markdown",
      "source": [
        "**Train the model with dataset**"
      ],
      "metadata": {
        "id": "FDK2c9GWLfUK"
      }
    },
    {
      "cell_type": "code",
      "source": [
        "# Train the model\n",
        "model.fit(x_train, y_train, batch_size=128, epochs=10, validation_split=0.1)\n",
        "\n"
      ],
      "metadata": {
        "id": "HwlmSwReURGO",
        "colab": {
          "base_uri": "https://localhost:8080/"
        },
        "outputId": "b89f7d68-5f29-4920-d82c-1566806899ea"
      },
      "execution_count": null,
      "outputs": [
        {
          "output_type": "stream",
          "name": "stdout",
          "text": [
            "Epoch 1/10\n",
            "422/422 [==============================] - 13s 6ms/step - loss: 0.3540 - accuracy: 0.8929 - val_loss: 0.0849 - val_accuracy: 0.9747\n",
            "Epoch 2/10\n",
            "422/422 [==============================] - 2s 6ms/step - loss: 0.0828 - accuracy: 0.9744 - val_loss: 0.0518 - val_accuracy: 0.9843\n",
            "Epoch 3/10\n",
            "422/422 [==============================] - 3s 7ms/step - loss: 0.0589 - accuracy: 0.9817 - val_loss: 0.0569 - val_accuracy: 0.9822\n",
            "Epoch 4/10\n",
            "422/422 [==============================] - 2s 5ms/step - loss: 0.0472 - accuracy: 0.9857 - val_loss: 0.0435 - val_accuracy: 0.9865\n",
            "Epoch 5/10\n",
            "422/422 [==============================] - 2s 5ms/step - loss: 0.0399 - accuracy: 0.9868 - val_loss: 0.0744 - val_accuracy: 0.9778\n",
            "Epoch 6/10\n",
            "422/422 [==============================] - 2s 5ms/step - loss: 0.0346 - accuracy: 0.9892 - val_loss: 0.0375 - val_accuracy: 0.9907\n",
            "Epoch 7/10\n",
            "422/422 [==============================] - 2s 6ms/step - loss: 0.0302 - accuracy: 0.9904 - val_loss: 0.0352 - val_accuracy: 0.9895\n",
            "Epoch 8/10\n",
            "422/422 [==============================] - 3s 7ms/step - loss: 0.0256 - accuracy: 0.9922 - val_loss: 0.0339 - val_accuracy: 0.9907\n",
            "Epoch 9/10\n",
            "422/422 [==============================] - 2s 5ms/step - loss: 0.0221 - accuracy: 0.9930 - val_loss: 0.0457 - val_accuracy: 0.9868\n",
            "Epoch 10/10\n",
            "422/422 [==============================] - 2s 5ms/step - loss: 0.0196 - accuracy: 0.9934 - val_loss: 0.0346 - val_accuracy: 0.9912\n"
          ]
        },
        {
          "output_type": "execute_result",
          "data": {
            "text/plain": [
              "<keras.callbacks.History at 0x7f83b09a23e0>"
            ]
          },
          "metadata": {},
          "execution_count": 21
        }
      ]
    },
    {
      "cell_type": "markdown",
      "source": [
        "**Model evaluation with test data**"
      ],
      "metadata": {
        "id": "y0fgemghLnZX"
      }
    },
    {
      "cell_type": "code",
      "source": [
        "# Evaluate the model on the test set\n",
        "test_loss, test_acc = model.evaluate(x_test, y_test)\n",
        "print('Test loss:', test_loss)\n",
        "print('Test accuracy:', test_acc)"
      ],
      "metadata": {
        "id": "C9CPH2DJUgoC",
        "colab": {
          "base_uri": "https://localhost:8080/"
        },
        "outputId": "8fd83d1a-776b-4280-b1dd-ae057c2e6370"
      },
      "execution_count": null,
      "outputs": [
        {
          "output_type": "stream",
          "name": "stdout",
          "text": [
            "313/313 [==============================] - 1s 3ms/step - loss: 0.0311 - accuracy: 0.9896\n",
            "Test loss: 0.031069302931427956\n",
            "Test accuracy: 0.9896000027656555\n"
          ]
        }
      ]
    },
    {
      "cell_type": "code",
      "source": [
        "predict = model.predict(x_test)\n",
        "print(predict[0])"
      ],
      "metadata": {
        "colab": {
          "base_uri": "https://localhost:8080/"
        },
        "id": "9Bx7S-u6s5iF",
        "outputId": "688013ca-f1cf-4e0d-e0a6-4fc08465f801"
      },
      "execution_count": null,
      "outputs": [
        {
          "output_type": "stream",
          "name": "stdout",
          "text": [
            "313/313 [==============================] - 1s 2ms/step\n",
            "[2.1598498e-10 1.5227569e-07 2.9752096e-07 1.0247258e-07 1.2478179e-12\n",
            " 2.2976983e-09 6.6656771e-16 9.9999940e-01 8.9195695e-10 1.3273180e-08]\n"
          ]
        }
      ]
    },
    {
      "cell_type": "code",
      "source": [
        "y_precit_class = np.argmax(predict[0])\n",
        "y_precit_class"
      ],
      "metadata": {
        "id": "m1HIPnBCtUhG"
      },
      "execution_count": null,
      "outputs": []
    }
  ]
}