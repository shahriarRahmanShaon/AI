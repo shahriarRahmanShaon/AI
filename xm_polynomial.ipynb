{
  "nbformat": 4,
  "nbformat_minor": 0,
  "metadata": {
    "colab": {
      "provenance": []
    },
    "kernelspec": {
      "name": "python3",
      "display_name": "Python 3"
    },
    "language_info": {
      "name": "python"
    },
    "accelerator": "GPU",
    "gpuClass": "standard"
  },
  "cells": [
    {
      "cell_type": "code",
      "execution_count": null,
      "metadata": {
        "id": "EhOO-HGlqoEz"
      },
      "outputs": [],
      "source": [
        "import tensorflow as tf\n",
        "from tensorflow.keras.layers import Dense\n",
        "from tensorflow.keras import Sequential\n",
        "import numpy as np\n",
        "import matplotlib.pyplot as plt\n",
        "from numpy import random"
      ]
    },
    {
      "cell_type": "code",
      "source": [
        "X = []\n",
        "Y = []\n",
        "for i in range(100):\n",
        "    num = random.randint(-5,5)\n",
        "\n",
        "    X.append(num)\n",
        "    num_y = 3*num*num*num + 7*num*num - 12*num +2\n",
        "    print(num, num_y)\n",
        "    Y.append(num_y)"
      ],
      "metadata": {
        "id": "Fuy297D9rCt9"
      },
      "execution_count": null,
      "outputs": []
    },
    {
      "cell_type": "code",
      "source": [
        "model = Sequential()\n",
        "model.add(Dense(128,input_dim = 1, activation='relu',name=\"dense_layer_1\"))\n",
        "model.add(Dense(64, activation='relu',name=\"dense_layer_2\"))\n",
        "model.add(Dense(32, activation='relu',name=\"dense_layer_3\"))\n",
        "model.add(Dense(16, activation='relu',name=\"dense_layer_4\"))\n",
        "model.add(Dense(8, activation='relu',name=\"dense_layer_5\"))\n",
        "model.add(Dense(4, activation='relu',name=\"dense_layer_6\"))\n",
        "model.add(Dense(1,name=\"Output\"))\n",
        "\n"
      ],
      "metadata": {
        "id": "seX9_3EGrNEU"
      },
      "execution_count": null,
      "outputs": []
    },
    {
      "cell_type": "code",
      "source": [
        "model.summary()"
      ],
      "metadata": {
        "id": "cHiaE53Traqa"
      },
      "execution_count": null,
      "outputs": []
    },
    {
      "cell_type": "code",
      "source": [
        "model.compile(loss = 'mean_squared_error', optimizer='adam',metrics=['accuracy'])"
      ],
      "metadata": {
        "id": "N1hFknRPrarv"
      },
      "execution_count": null,
      "outputs": []
    },
    {
      "cell_type": "code",
      "source": [
        "model.fit(X,Y,epochs = 50)"
      ],
      "metadata": {
        "id": "kj-oYJmYsECm"
      },
      "execution_count": null,
      "outputs": []
    },
    {
      "cell_type": "code",
      "source": [
        "def call(num):\n",
        "    ans = 3*num*num*num + 7*num*num - 12*num +2\n",
        "    print('predicted value for : ',num,' is ',ans)"
      ],
      "metadata": {
        "id": "jkegbd5P1y7b"
      },
      "execution_count": null,
      "outputs": []
    },
    {
      "cell_type": "code",
      "source": [
        "for i in range(5):\n",
        "    x = random.randint(-5,5)\n",
        "    predictions = model.predict([x],verbose=0)\n",
        "    print('Predicted value by model : ',predictions)\n",
        "    call(x)"
      ],
      "metadata": {
        "id": "u-Dxc4tM13Ch"
      },
      "execution_count": null,
      "outputs": []
    }
  ]
}